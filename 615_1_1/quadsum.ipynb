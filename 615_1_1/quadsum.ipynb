{
 "cells": [
  {
   "cell_type": "markdown",
   "metadata": {
    "slideshow": {
     "slide_type": "slide"
    }
   },
   "source": [
    "## Comparing the computational cost of quadratic sum\n",
    "\n",
    "We will evaluate the computational cost of the following quadratic sum.\n",
    "\n",
    "$$\n",
    "\\mathbf{x}^T A \\mathbf{y} = \\sum_{i=1}^n\\sum_{j=1}^m x_iA_{ij}x_j\n",
    "$$\n",
    "\n",
    "where $A \\in \\mathbb{R}^{m\\times n}$. \n",
    "\n",
    "The possible options to compute this include:\n",
    " 1. Implementing with pure R function with loops\n",
    " 1. Implementing with Rcpp/C++ function with loops\n",
    " 1. Implementing with matrix multiplication in R\n",
    " \n",
    "First, we define an arbitrary values of $\\mathbf{x},~A,~\\mathbf{y}$."
   ]
  },
  {
   "cell_type": "code",
   "execution_count": null,
   "metadata": {
    "collapsed": true
   },
   "outputs": [],
   "source": [
    "x0 <- rep(1,10000)\n",
    "y0 <- rep(1,10000)\n",
    "A0 <- matrix(1,10000,10000)"
   ]
  },
  {
   "cell_type": "markdown",
   "metadata": {},
   "source": [
    "It is obvious that $\\mathbf{x}_0^T A_0 \\mathbf{y}_0 = 10^8$.\n",
    "\n",
    "A version of R loop implementation is below."
   ]
  },
  {
   "cell_type": "code",
   "execution_count": null,
   "metadata": {
    "slideshow": {
     "slide_type": "fragment"
    }
   },
   "outputs": [],
   "source": [
    "quadsum_r_loop <- function(x, A, y) {\n",
    "    n <- nrow(A)\n",
    "    m <- ncol(A)\n",
    "    sum <- 0\n",
    "    for(i in 1:n) {\n",
    "        for(j in 1:m){\n",
    "            sum = sum + x[i]*A[i,j]*y[j]\n",
    "        }\n",
    "    }\n",
    "    return (sum)\n",
    "}"
   ]
  },
  {
   "cell_type": "markdown",
   "metadata": {
    "slideshow": {
     "slide_type": "subslide"
    }
   },
   "source": [
    "Let's evaluate how long it takes."
   ]
  },
  {
   "cell_type": "code",
   "execution_count": null,
   "metadata": {
    "slideshow": {
     "slide_type": "fragment"
    }
   },
   "outputs": [],
   "source": [
    "system.time( print( quadsum_r_loop(x0, A0, y0) ) )"
   ]
  },
  {
   "cell_type": "markdown",
   "metadata": {
    "slideshow": {
     "slide_type": "subslide"
    }
   },
   "source": [
    "Rcpp/C++ implementation of the same algorithm can be implemented using `sourceCpp()` or `cppFunction()`. We will use `cppFunction()` here."
   ]
  },
  {
   "cell_type": "code",
   "execution_count": null,
   "metadata": {
    "slideshow": {
     "slide_type": "fragment"
    }
   },
   "outputs": [],
   "source": [
    "library(Rcpp)\n",
    "cppFunction('double quadsum_c_loop(NumericVector x, NumericMatrix A, NumericVector y) {\n",
    "    double sum = 0;\n",
    "    int n = A.nrow(), m = A.ncol();\n",
    "    for(int i=0; i < n; ++i) {\n",
    "        for(int j=0; j < m; ++j) {\n",
    "            sum += x[i] * A(i,j) * x[j];\n",
    "        }\n",
    "    }\n",
    "    return sum;\n",
    "}')"
   ]
  },
  {
   "cell_type": "markdown",
   "metadata": {
    "slideshow": {
     "slide_type": "fragment"
    }
   },
   "source": [
    "Run a similar command to compare the running time"
   ]
  },
  {
   "cell_type": "code",
   "execution_count": null,
   "metadata": {},
   "outputs": [],
   "source": [
    "system.time( print( quadsum_c_loop(x0, A0, y0) ) )"
   ]
  },
  {
   "cell_type": "code",
   "execution_count": null,
   "metadata": {},
   "outputs": [],
   "source": [
    "quadsum_mat <- function(x, A, y) {\n",
    "    return( x %*% A %*% y )\n",
    "}\n",
    "system.time( print( quadsum_mat(x0, A0, y0) ) )"
   ]
  },
  {
   "cell_type": "markdown",
   "metadata": {},
   "source": [
    "The C++ version appears slower than actual speed because of inefficient optimization during compiliation. When working on a command line, matrix operation and C++ loop should be only ~3x slower."
   ]
  }
 ],
 "metadata": {
  "kernelspec": {
   "display_name": "R",
   "language": "R",
   "name": "ir"
  },
  "language_info": {
   "codemirror_mode": "r",
   "file_extension": ".r",
   "mimetype": "text/x-r-source",
   "name": "R",
   "pygments_lexer": "r",
   "version": "3.4.1"
  }
 },
 "nbformat": 4,
 "nbformat_minor": 2
}
