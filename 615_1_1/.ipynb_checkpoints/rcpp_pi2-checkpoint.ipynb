{
 "cells": [
  {
   "cell_type": "markdown",
   "metadata": {
    "slideshow": {
     "slide_type": "slide"
    }
   },
   "source": [
    "## Modified version of the previous example\n",
    "\n",
    "We will use the same task as before, but using `sourceCpp` instead of `cppFunction`.  "
   ]
  },
  {
   "cell_type": "code",
   "execution_count": null,
   "metadata": {
    "collapsed": true,
    "slideshow": {
     "slide_type": "fragment"
    }
   },
   "outputs": [],
   "source": [
    "library(Rcpp)"
   ]
  },
  {
   "cell_type": "markdown",
   "metadata": {
    "slideshow": {
     "slide_type": "subslide"
    }
   },
   "source": [
    ", and use `sourceCpp` to load a C++ function written in C++.\n",
    "Need to add `#include <Rcpp.h>` in the beginning, and right before the function to use in R, include the following comment line.\n",
    "\n",
    "`// [[Rcpp::export]]`"
   ]
  },
  {
   "cell_type": "code",
   "execution_count": null,
   "metadata": {
    "slideshow": {
     "slide_type": "fragment"
    }
   },
   "outputs": [],
   "source": [
    "sourceCpp('zeta2.cpp')"
   ]
  },
  {
   "cell_type": "markdown",
   "metadata": {
    "slideshow": {
     "slide_type": "subslide"
    }
   },
   "source": [
    "The source of `zeta2.cpp` is as below.\n",
    "\n",
    "`#include <Rcpp.h>\n",
    "// [[Rcpp::export]]\n",
    "double zeta2(int n) {\n",
    "  double sum = 0;\n",
    "  for(int i=n; i > 0; --i)\n",
    "    sum += 1.0/i/i;\n",
    "  return sum;\n",
    "}`\n",
    "\n",
    "\n",
    "\n",
    "Just the same as before, to print the $\\pi$ value up to 15 digits, $\\pi = \\sqrt{6\\zeta(2)}$ can be used, with `options()` function"
   ]
  },
  {
   "cell_type": "code",
   "execution_count": null,
   "metadata": {
    "slideshow": {
     "slide_type": "fragment"
    }
   },
   "outputs": [],
   "source": [
    "options(digits=15)\n",
    "system.time( print(sqrt(6*zeta2(1000000000))) )"
   ]
  },
  {
   "cell_type": "markdown",
   "metadata": {
    "slideshow": {
     "slide_type": "fragment"
    }
   },
   "source": [
    "Do you see the same results as before?"
   ]
  }
 ],
 "metadata": {
  "kernelspec": {
   "display_name": "R",
   "language": "R",
   "name": "ir"
  },
  "language_info": {
   "codemirror_mode": "r",
   "file_extension": ".r",
   "mimetype": "text/x-r-source",
   "name": "R",
   "pygments_lexer": "r",
   "version": "3.4.1"
  }
 },
 "nbformat": 4,
 "nbformat_minor": 2
}
