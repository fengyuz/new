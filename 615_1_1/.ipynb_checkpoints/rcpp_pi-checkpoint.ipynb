{
 "cells": [
  {
   "cell_type": "markdown",
   "metadata": {
    "slideshow": {
     "slide_type": "slide"
    }
   },
   "source": [
    "## First example of using Jupyter R notebook\n",
    "\n",
    "We will now use Jupyter notebook to facilitate interactive learning. The example of numerically computing $\\pi = 3.14159265359\\ldots$ value using $\\zeta(\\cdot)$ function is described below.\n",
    "\n",
    "First, to use C++ function, `Rcpp` package must be loaded.  "
   ]
  },
  {
   "cell_type": "code",
   "execution_count": null,
   "metadata": {
    "collapsed": true,
    "slideshow": {
     "slide_type": "fragment"
    }
   },
   "outputs": [],
   "source": [
    "library(Rcpp)"
   ]
  },
  {
   "cell_type": "markdown",
   "metadata": {
    "slideshow": {
     "slide_type": "subslide"
    }
   },
   "source": [
    ", and use `cppFunction` to define a C++ function"
   ]
  },
  {
   "cell_type": "code",
   "execution_count": null,
   "metadata": {
    "collapsed": true,
    "slideshow": {
     "slide_type": "fragment"
    }
   },
   "outputs": [],
   "source": [
    "cppFunction('double zeta2(int n) {\n",
    "  double sum = 0;\n",
    "  for(int i=n; i > 0; --i)\n",
    "    sum += 1.0/i/i;\n",
    "  return sum;\n",
    "}')"
   ]
  },
  {
   "cell_type": "markdown",
   "metadata": {
    "slideshow": {
     "slide_type": "subslide"
    }
   },
   "source": [
    "To print the $\\pi$ value up to 15 digits, $\\pi = \\sqrt{6\\zeta(2)}$ can be used, with `options()` function"
   ]
  },
  {
   "cell_type": "code",
   "execution_count": null,
   "metadata": {
    "slideshow": {
     "slide_type": "fragment"
    }
   },
   "outputs": [],
   "source": [
    "options(digits=15)\n",
    "system.time( print(sqrt(6*zeta2(1000000000))) )"
   ]
  },
  {
   "cell_type": "markdown",
   "metadata": {
    "slideshow": {
     "slide_type": "fragment"
    }
   },
   "source": [
    "How many digits end up matching?"
   ]
  }
 ],
 "metadata": {
  "kernelspec": {
   "display_name": "R",
   "language": "R",
   "name": "ir"
  },
  "language_info": {
   "codemirror_mode": "r",
   "file_extension": ".r",
   "mimetype": "text/x-r-source",
   "name": "R",
   "pygments_lexer": "r",
   "version": "3.4.1"
  }
 },
 "nbformat": 4,
 "nbformat_minor": 2
}
