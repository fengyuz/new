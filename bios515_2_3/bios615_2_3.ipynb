{
 "cells": [
  {
   "cell_type": "markdown",
   "metadata": {},
   "source": [
    "## 1. Bisection method for root finding"
   ]
  },
  {
   "cell_type": "code",
   "execution_count": null,
   "metadata": {
    "collapsed": true
   },
   "outputs": [],
   "source": [
    "## func : an arbitrary function\n",
    "## lo   : x value where func(x) is negative\n",
    "## hi   : x value where func(x) is positive\n",
    "## e    : tolerance of errors in x\n",
    "def binaryRoot(func, lo, hi, e):\n",
    "    itr = 0      ## number of iteration\n",
    "    while(True): ## loop until returns\n",
    "        d = hi-lo            ## range of x  \n",
    "        point = (hi+lo)/2.0  ## midpoint in x\n",
    "        fpoint = func(point) ## midpoint in y\n",
    "        if ( fpoint < 0 ):   ## if y is negative..\n",
    "            d = lo-point\n",
    "            lo = point       ## set it as new lo\n",
    "        else:\n",
    "            d = point-hi     \n",
    "            hi = point  ## if not, set it as new hi\n",
    "        ## return if range is small enough, or y is exactly zero\n",
    "        if ( ( abs(d) < e ) or ( fpoint == 0 ) ):\n",
    "            print(\"iteration:\\t\" + str(itr))\n",
    "            print(\"point:\\t\" + str(point))\n",
    "            print(\"fpoint:\\t\" + str(fpoint))\n",
    "            print(\"d:\\t\" + str(d))\n",
    "            return point;\n",
    "        itr += 1"
   ]
  },
  {
   "cell_type": "code",
   "execution_count": null,
   "metadata": {},
   "outputs": [],
   "source": [
    "import math\n",
    "binaryRoot(math.sin, 0-math.pi/math.sqrt(2), math.pi/2, 1e-5)"
   ]
  },
  {
   "cell_type": "markdown",
   "metadata": {},
   "source": [
    "## 2. False position method for root finding"
   ]
  },
  {
   "cell_type": "code",
   "execution_count": null,
   "metadata": {
    "collapsed": true
   },
   "outputs": [],
   "source": [
    "## func : an arbitrary function\n",
    "## lo   : x value where func(x) is negative\n",
    "## hi   : x value where func(x) is positive\n",
    "## e    : tolerance of errors in x\n",
    "def linearRoot(func, lo, hi, e):\n",
    "    itr = 0        ## number of iteration\n",
    "    flo = func(lo) ## need y values at the bounaries\n",
    "    fhi = func(hi)\n",
    "    while(True): ## loop until returns\n",
    "        d = hi-lo            ## range of x  \n",
    "        point = lo + d * flo / (flo - fhi)\n",
    "        fpoint = func(point) ## midpoint in y\n",
    "        if ( fpoint < 0 ):   ## if y is negative..\n",
    "            d = lo-point\n",
    "            lo = point       ## set it as new lo\n",
    "            flo = fpoint     ## replace the bounary value, too\n",
    "        else:\n",
    "            d = point-hi     \n",
    "            hi = point   ## if not, set it as new hi\n",
    "            fhi = fpoint ## replace the bounary value, too\n",
    "        ## return if range is small enough, or y is exactly zero\n",
    "        if ( ( abs(d) < e ) or ( fpoint == 0 ) ):\n",
    "            print(\"iteration:\\t\" + str(itr))\n",
    "            print(\"point:\\t\" + str(point))\n",
    "            print(\"fpoint:\\t\" + str(fpoint))\n",
    "            print(\"d:\\t\" + str(d))\n",
    "            return point;\n",
    "        itr += 1"
   ]
  },
  {
   "cell_type": "code",
   "execution_count": null,
   "metadata": {},
   "outputs": [],
   "source": [
    "linearRoot(math.sin, 0-math.pi/math.sqrt(2), math.pi/2, 1e-5)"
   ]
  },
  {
   "cell_type": "markdown",
   "metadata": {},
   "source": [
    "## 3. Golden search for local minimization"
   ]
  },
  {
   "cell_type": "code",
   "execution_count": null,
   "metadata": {},
   "outputs": [],
   "source": [
    "## goldenSearch() for general minimiztion\n",
    "## func : an arbitrary function\n",
    "## a : smallest value in bracket triplet\n",
    "## b : middle value in bracket triplet\n",
    "## c : largest value in bracket triplet\n",
    "## e : relative precision tolerance\n",
    "def goldenSearch(func, a, b, c, e):\n",
    "    itr = 0\n",
    "    fb = func(b)\n",
    "    ## when b is very small, need a higher precision\n",
    "    while( abs(c-a) > abs(b*e) ):\n",
    "        if ( b > (a+c)/2 ): ## as illustrated in the lecture\n",
    "            x = a + 0.38196 * (c-a)\n",
    "        else:               ## x is on the left side\n",
    "            x = c - 0.38196 * (c-a)  \n",
    "        fx = func(x)    ## evaulate function  \n",
    "        if ( fx < fb ): ## if found a new minimum\n",
    "            if (x > b): \n",
    "                a = b\n",
    "            else: \n",
    "                c = b\n",
    "            b = x\n",
    "            fb = fx \n",
    "        else:\n",
    "            if ( x < b ):\n",
    "                a = x\n",
    "            else:\n",
    "                c = x;\n",
    "        itr += 1\n",
    "    print(\"itr:\\t\" + str(itr))\n",
    "    print(\"x:\\t\" + str(b))\n",
    "    print(\"y:\\t\" + str(fb))\n",
    "    print(\"d:\\t\" + str(c-a))\n",
    "    return b;"
   ]
  },
  {
   "cell_type": "code",
   "execution_count": null,
   "metadata": {},
   "outputs": [],
   "source": [
    "def foo(x):\n",
    "    return 0-math.cos(x)\n",
    "\n",
    "goldenSearch(foo, 0-math.pi/math.sqrt(2),math.pi/4,math.pi/2,1e-5)"
   ]
  },
  {
   "cell_type": "code",
   "execution_count": null,
   "metadata": {
    "collapsed": true
   },
   "outputs": [],
   "source": []
  }
 ],
 "metadata": {
  "kernelspec": {
   "display_name": "Python 2",
   "language": "python",
   "name": "python2"
  },
  "language_info": {
   "codemirror_mode": {
    "name": "ipython",
    "version": 2
   },
   "file_extension": ".py",
   "mimetype": "text/x-python",
   "name": "python",
   "nbconvert_exporter": "python",
   "pygments_lexer": "ipython2",
   "version": "2.7.14"
  }
 },
 "nbformat": 4,
 "nbformat_minor": 2
}
