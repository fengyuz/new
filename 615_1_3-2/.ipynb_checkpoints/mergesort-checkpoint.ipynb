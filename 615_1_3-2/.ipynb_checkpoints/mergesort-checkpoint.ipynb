{
 "cells": [
  {
   "cell_type": "markdown",
   "metadata": {},
   "source": [
    "## Mergesort\n",
    "\n",
    "Sort an array using an divide and conquer algorithm "
   ]
  },
  {
   "cell_type": "code",
   "execution_count": null,
   "metadata": {
    "collapsed": true
   },
   "outputs": [],
   "source": [
    "## function insertion_sort()\n",
    "## input arguments:\n",
    "##   A : an array containing unordered input\n",
    "## return values: none\n",
    "## expected behavior:\n",
    "##   The elements of arrays will be sorted in increasing order.\n",
    "def insertion_sort( A ):\n",
    "    n = len(A)             # n : size of input array\n",
    "    for i in range(1, n):  # i = 1 .. (n-1) (Note: 0-based index)\n",
    "        for k in range(i, 0, -1): # k = i .. 1\n",
    "            if ( A[k-1] > A[k] ): # if out of oreder..\n",
    "                A[k-1], A[k] = A[k], A[k-1]  # swap two elements\n",
    "            else:\n",
    "                break"
   ]
  },
  {
   "cell_type": "code",
   "execution_count": null,
   "metadata": {
    "collapsed": true
   },
   "outputs": [],
   "source": [
    "## function mergesort():\n",
    "## input arguments:\n",
    "##   array: unsorted input array\n",
    "##   left:  index of the beginning (inclusive) of subset to be sorted\n",
    "##   right: index of the end (exclusive) of subset to be sorted\n",
    "## return values: none\n",
    "## expected behavior:\n",
    "##   array[left:right] is sorted\n",
    "def mergesort(array, left, right): ## left : inclusive, right : exclusive\n",
    "    if ( right - left <= 1 ):\n",
    "        return\n",
    "    else:\n",
    "        mid = int((left+right)/2)\n",
    "        mergesort(array, left, mid)\n",
    "        mergesort(array, mid, right)\n",
    "        tmp = array[left:mid]\n",
    "        i = 0    ## index of tmp   : first half of input\n",
    "        j = mid  ## index of array : second half of input\n",
    "        k = left ## index of array : combined output\n",
    "        while( ( i < mid-left ) or ( j < right ) ):\n",
    "            if ( i == mid-left ):\n",
    "                array[k] = array[j]\n",
    "                j += 1\n",
    "            elif ( ( j == right ) or ( tmp[i] < array[j]) ):\n",
    "                array[k] = tmp[i]  # tmp[i] == (old)array[i+left]  \n",
    "                i += 1\n",
    "            else:  # array[j] <= tmp[i]\n",
    "                array[k] = array[j]\n",
    "                j += 1\n",
    "            k += 1\n",
    "        return"
   ]
  },
  {
   "cell_type": "code",
   "execution_count": null,
   "metadata": {
    "collapsed": true
   },
   "outputs": [],
   "source": [
    "from random import sample\n",
    "n = 10000"
   ]
  },
  {
   "cell_type": "code",
   "execution_count": null,
   "metadata": {
    "collapsed": true
   },
   "outputs": [],
   "source": [
    "%%time\n",
    "A1 = list(range(n, 0, -1))\n",
    "mergesort(A1,0,n)\n",
    "print(A1[0], A1[-1])"
   ]
  },
  {
   "cell_type": "code",
   "execution_count": null,
   "metadata": {
    "collapsed": true
   },
   "outputs": [],
   "source": [
    "%%time\n",
    "A1 = list(range(n, 0, -1))\n",
    "insertion_sort(A1)\n",
    "print(A1[0], A1[-1])"
   ]
  },
  {
   "cell_type": "code",
   "execution_count": null,
   "metadata": {
    "collapsed": true
   },
   "outputs": [],
   "source": [
    "%%time\n",
    "A2 = sample( range(1, n+1), n)\n",
    "mergesort(A2,0,n)\n",
    "print(A2[0], A2[-1])"
   ]
  },
  {
   "cell_type": "code",
   "execution_count": null,
   "metadata": {
    "collapsed": true
   },
   "outputs": [],
   "source": [
    "%%time\n",
    "A2 = sample( range(1, n+1), n)\n",
    "insertion_sort(A2)\n",
    "print(A2[0], A2[-1])"
   ]
  },
  {
   "cell_type": "code",
   "execution_count": null,
   "metadata": {
    "collapsed": true
   },
   "outputs": [],
   "source": [
    "%%time\n",
    "A3 = list(range(1, n+1))\n",
    "mergesort(A3,0,n)\n",
    "print(A3[0], A3[-1])"
   ]
  },
  {
   "cell_type": "code",
   "execution_count": null,
   "metadata": {
    "collapsed": true
   },
   "outputs": [],
   "source": [
    "%%time\n",
    "A3 = list(range(1, n+1))\n",
    "insertion_sort(A3)\n",
    "print(A3[0], A3[-1])"
   ]
  }
 ],
 "metadata": {
  "kernelspec": {
   "display_name": "Python 2",
   "language": "python",
   "name": "python2"
  },
  "language_info": {
   "codemirror_mode": {
    "name": "ipython",
    "version": 2
   },
   "file_extension": ".py",
   "mimetype": "text/x-python",
   "name": "python",
   "nbconvert_exporter": "python",
   "pygments_lexer": "ipython2",
   "version": "2.7.8"
  }
 },
 "nbformat": 4,
 "nbformat_minor": 2
}
