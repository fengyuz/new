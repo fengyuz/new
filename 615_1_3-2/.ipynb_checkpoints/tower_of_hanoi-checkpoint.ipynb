{
 "cells": [
  {
   "cell_type": "markdown",
   "metadata": {},
   "source": [
    "## Tower of Hanoi problem\n",
    "\n",
    " * There 3 three poles, namely \"left\", \"center\", \"right\" \n",
    " * Initially, $N$ disks are located in the left tower\n",
    " * The goal is to move all disks to the right tower\n",
    " * Only one disk can be moved at a time\n",
    " * A disk cannot be moved on top of a smaller disk. "
   ]
  },
  {
   "cell_type": "code",
   "execution_count": null,
   "metadata": {
    "collapsed": true
   },
   "outputs": [],
   "source": [
    "## function tower_of_hanoi()\n",
    "## input arguments :\n",
    "##   n - the total number of disks (in frm)\n",
    "##   frm - the name of the pole that contains all disk at the beginning\n",
    "##   via - the name of the intermediate pole\n",
    "##   to  - the name of the destination pole (of all the disks)\n",
    "## return value : none\n",
    "## expected behavior :\n",
    "##   print the step-by-step instruction to solve the problem\n",
    "def tower_of_hanoi(n, frm, via, to):\n",
    "    ## print(\"tower_of_hanoi(\"+\", \".join([str(n),frm,via,to])+\") called\")\n",
    "    if ( n == 0 ): ## terminal case of recursion\n",
    "        return\n",
    "    else:          ## non-terminal case : recursive calls \n",
    "        tower_of_hanoi(n-1, frm, to, via) \n",
    "        print(\"Move disk \" + str(n) + \" from \" + frm + \" pole to \" + to + \" pole\")\n",
    "        tower_of_hanoi(n-1, via, frm, to)"
   ]
  },
  {
   "cell_type": "code",
   "execution_count": null,
   "metadata": {
    "collapsed": true
   },
   "outputs": [],
   "source": [
    "tower_of_hanoi(3, \"left\", \"center\", \"right\")"
   ]
  }
 ],
 "metadata": {
  "kernelspec": {
   "display_name": "Python 2",
   "language": "python",
   "name": "python2"
  },
  "language_info": {
   "codemirror_mode": {
    "name": "ipython",
    "version": 2
   },
   "file_extension": ".py",
   "mimetype": "text/x-python",
   "name": "python",
   "nbconvert_exporter": "python",
   "pygments_lexer": "ipython2",
   "version": "2.7.8"
  }
 },
 "nbformat": 4,
 "nbformat_minor": 2
}
