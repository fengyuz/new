{
 "cells": [
  {
   "cell_type": "markdown",
   "metadata": {},
   "source": [
    "## 1.8 - Dynamic programming\n",
    "\n",
    "### 1. Recursive implementation of Fibonnaci numbers\n",
    "\n",
    "The Fibonnaci number is defined as follows.\n",
    "\n",
    "$$\n",
    "F_n = \\left\\{\\begin{array}{ll}\n",
    "F_{n-1} + F_{n-2} & n > 1 \\\\\n",
    "1 & n = 1 \\\\\n",
    "0 & n = 0\n",
    "\\end{array}\n",
    "\\right.\n",
    "$$\n",
    "\n",
    "To calculate a Fibonacci numbers computationally, we can use the following recursion "
   ]
  },
  {
   "cell_type": "code",
   "execution_count": null,
   "metadata": {
    "collapsed": true
   },
   "outputs": [],
   "source": [
    "def fib(n):\n",
    "    if ( n < 2 ):\n",
    "        return n\n",
    "    else:\n",
    "        return fib(n-1)+fib(n-2)"
   ]
  },
  {
   "cell_type": "code",
   "execution_count": null,
   "metadata": {},
   "outputs": [],
   "source": [
    "print(fib(2))\n",
    "print(fib(3))\n",
    "print(fib(4))\n",
    "print(fib(5))\n",
    "print(fib(6))\n",
    "print(fib(7))\n",
    "print(fib(8))\n",
    "print(fib(9))\n",
    "print(fib(10))\n",
    "print(fib(20))"
   ]
  },
  {
   "cell_type": "code",
   "execution_count": null,
   "metadata": {},
   "outputs": [],
   "source": [
    "%%time\n",
    "fib(20)"
   ]
  },
  {
   "cell_type": "code",
   "execution_count": null,
   "metadata": {},
   "outputs": [],
   "source": [
    "%%time\n",
    "fib(30)"
   ]
  },
  {
   "cell_type": "code",
   "execution_count": null,
   "metadata": {},
   "outputs": [],
   "source": [
    "%%time\n",
    "fib(35)"
   ]
  },
  {
   "cell_type": "code",
   "execution_count": null,
   "metadata": {},
   "outputs": [],
   "source": [
    "%%time\n",
    "fib(40)"
   ]
  },
  {
   "cell_type": "markdown",
   "metadata": {},
   "source": [
    "### 2. A simpler loop implementation without recursion\n",
    "\n",
    "Next, let's implement a \"loopy\" implementation of Fibonacci numbers to see whether a non-recursive algorithm has the same problem."
   ]
  },
  {
   "cell_type": "code",
   "execution_count": null,
   "metadata": {
    "collapsed": true
   },
   "outputs": [],
   "source": [
    "def fib_loopy(n):\n",
    "    s1 = 0\n",
    "    s2 = 1\n",
    "    for i in range(2,n+1):\n",
    "        (s2,s1) = (s2+s1,s2)\n",
    "    return(s2)"
   ]
  },
  {
   "cell_type": "code",
   "execution_count": null,
   "metadata": {},
   "outputs": [],
   "source": [
    "%%time\n",
    "print(fib_loopy(20))\n",
    "print(fib_loopy(30))\n",
    "print(fib_loopy(35))\n",
    "print(fib_loopy(40))"
   ]
  },
  {
   "cell_type": "markdown",
   "metadata": {},
   "source": [
    "### 3. A dynamic programming implementation\n",
    "\n",
    "A dynamic programming information requires an additional storage to save the outcomes."
   ]
  },
  {
   "cell_type": "code",
   "execution_count": null,
   "metadata": {
    "collapsed": true
   },
   "outputs": [],
   "source": [
    "def fib_dp(n, stored): ## assume that empty list will be provided during the run\n",
    "    if ( len(stored) == 0 ):\n",
    "        stored.extend((n+1) * [None])\n",
    "    if ( stored[n] is None ):\n",
    "        if ( n < 2 ):\n",
    "            stored[n] = n\n",
    "        else:\n",
    "            stored[n] = fib_dp(n-1,stored) + fib_dp(n-2,stored)\n",
    "    return(stored[n])"
   ]
  },
  {
   "cell_type": "code",
   "execution_count": null,
   "metadata": {},
   "outputs": [],
   "source": [
    "%%time\n",
    "print(fib_dp(20,[]))\n",
    "print(fib_dp(30,[]))\n",
    "print(fib_dp(35,[]))\n",
    "print(fib_dp(40,[]))"
   ]
  },
  {
   "cell_type": "code",
   "execution_count": null,
   "metadata": {
    "collapsed": true
   },
   "outputs": [],
   "source": []
  }
 ],
 "metadata": {
  "kernelspec": {
   "display_name": "Python 2",
   "language": "python",
   "name": "python2"
  },
  "language_info": {
   "codemirror_mode": {
    "name": "ipython",
    "version": 2
   },
   "file_extension": ".py",
   "mimetype": "text/x-python",
   "name": "python",
   "nbconvert_exporter": "python",
   "pygments_lexer": "ipython2",
   "version": "2.7.13"
  }
 },
 "nbformat": 4,
 "nbformat_minor": 2
}
