{
 "cells": [
  {
   "cell_type": "markdown",
   "metadata": {},
   "source": [
    "## Insertion sort\n",
    "\n",
    "Insertion sort use induction to keep first $k$ elements sorted and increase the size of sorted list by one in each step. The algorithm described in the lecture slide can be implemented as below"
   ]
  },
  {
   "cell_type": "code",
   "execution_count": 1,
   "metadata": {
    "collapsed": true
   },
   "outputs": [],
   "source": [
    "## function insertion_sort()\n",
    "## input arguments:\n",
    "##   A : an array containing unordered input\n",
    "## return values: none\n",
    "## expected behavior:\n",
    "##   The elements of arrays will be sorted in increasing order.\n",
    "def insertion_sort( A ):\n",
    "    n = len(A)             # n : size of input array\n",
    "    for i in range(1, n):  # i = 1 .. (n-1) (Note: 0-based index)\n",
    "        for k in range(i, 0, -1): # k = i .. 1\n",
    "            if ( A[k-1] > A[k] ): # if out of oreder..\n",
    "                A[k-1], A[k] = A[k], A[k-1]  # swap two elements\n",
    "            else:\n",
    "                break\n",
    "                "
   ]
  },
  {
   "cell_type": "markdown",
   "metadata": {},
   "source": [
    "To evaluate how this algorithm work, we create three sets of list to sort. One is reversely sorted, second is randomly shuffled, and third is already sorted. "
   ]
  },
  {
   "cell_type": "code",
   "execution_count": 2,
   "metadata": {
    "collapsed": true
   },
   "outputs": [],
   "source": [
    "from random import sample             ## use sample() function to shuffle\n",
    "n = 10000\n",
    "A1 = list(range(n, 0, -1))            ## reversely ordered\n",
    "A2 = sample( range(1, n+1), n )       ## randomly shuffled\n",
    "A3 = list(range(1, n+1))              ## already sorted"
   ]
  },
  {
   "cell_type": "markdown",
   "metadata": {},
   "source": [
    "We will use `%%time` magic function (specific to Jupyter/IPython notebook) to evaluate how long each sorting task takes. We will also print the first and the last element."
   ]
  },
  {
   "cell_type": "code",
   "execution_count": 31,
   "metadata": {},
   "outputs": [
    {
     "name": "stdout",
     "output_type": "stream",
     "text": [
      "1 10000\n",
      "CPU times: user 6.18 ms, sys: 243 µs, total: 6.42 ms\n",
      "Wall time: 6.29 ms\n"
     ]
    }
   ],
   "source": [
    "%%time \n",
    "insertion_sort(A1)     ## perform sorting\n",
    "print(A1[0], A1[-1])  ## print the first and last element to verify"
   ]
  },
  {
   "cell_type": "code",
   "execution_count": 36,
   "metadata": {},
   "outputs": [
    {
     "name": "stdout",
     "output_type": "stream",
     "text": [
      "1 10000\n",
      "CPU times: user 6.42 ms, sys: 559 µs, total: 6.98 ms\n",
      "Wall time: 6.59 ms\n"
     ]
    }
   ],
   "source": [
    "%%time\n",
    "insertion_sort(A2)\n",
    "print(A2[0], A2[-1])"
   ]
  },
  {
   "cell_type": "code",
   "execution_count": 29,
   "metadata": {},
   "outputs": [
    {
     "name": "stdout",
     "output_type": "stream",
     "text": [
      "1 10000\n",
      "CPU times: user 6.36 ms, sys: 475 µs, total: 6.84 ms\n",
      "Wall time: 6.43 ms\n"
     ]
    }
   ],
   "source": [
    "%%time\n",
    "insertion_sort(A3)\n",
    "print(A3[0], A3[-1])"
   ]
  }
 ],
 "metadata": {
  "kernelspec": {
   "display_name": "Python 2",
   "language": "python",
   "name": "python2"
  },
  "language_info": {
   "codemirror_mode": {
    "name": "ipython",
    "version": 2
   },
   "file_extension": ".py",
   "mimetype": "text/x-python",
   "name": "python",
   "nbconvert_exporter": "python",
   "pygments_lexer": "ipython2",
   "version": "2.7.8"
  }
 },
 "nbformat": 4,
 "nbformat_minor": 2
}
